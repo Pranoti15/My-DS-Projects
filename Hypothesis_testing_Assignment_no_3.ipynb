{
  "nbformat": 4,
  "nbformat_minor": 0,
  "metadata": {
    "colab": {
      "provenance": [],
      "authorship_tag": "ABX9TyOWuJEzxDwVW0MrgEicrKhp",
      "include_colab_link": true
    },
    "kernelspec": {
      "name": "python3",
      "display_name": "Python 3"
    },
    "language_info": {
      "name": "python"
    }
  },
  "cells": [
    {
      "cell_type": "markdown",
      "metadata": {
        "id": "view-in-github",
        "colab_type": "text"
      },
      "source": [
        "<a href=\"https://colab.research.google.com/github/Pranoti15/My-DS-Projects/blob/my-branch/Hypothesis_testing_Assignment_no_3.ipynb\" target=\"_parent\"><img src=\"https://colab.research.google.com/assets/colab-badge.svg\" alt=\"Open In Colab\"/></a>"
      ]
    },
    {
      "cell_type": "markdown",
      "source": [
        "Q1:**Hypothesis Formulation**:\n",
        "- A company claims that their new energy drink increases focus and alertness.\n",
        "Formulate the null and alternative hypotheses for testing this claim."
      ],
      "metadata": {
        "id": "jwt9HTHW9FBD"
      }
    },
    {
      "cell_type": "markdown",
      "source": [
        "A:\n",
        "**Null Hypothesis (H0)**: The new energy drink has no effect on focus and alertness. (i.e., there is no significant difference in focus and alertness between those who consume the drink and those who do not.)\n",
        "**Alternative Hypothesis (H1)**: The new energy drink increases focus and alertness. (i.e., those who consume the drink have significantly higher focus and alertness compared to those who do not.)\n",
        "\n",
        "This is a **one-tailed** hypothesis test, as we are specifically testing for an increase in focus and alertness.\n"
      ],
      "metadata": {
        "id": "GHm2rURU9_Qs"
      }
    },
    {
      "cell_type": "markdown",
      "source": [
        "Q2:**Significance Level Selection:**\n",
        "- A researcher is conducting a study on the effects of exercise on weight loss. What\n",
        "significance level should they choose for their hypothesis test and why?\n"
      ],
      "metadata": {
        "id": "FXiKweKiAz8Q"
      }
    },
    {
      "cell_type": "markdown",
      "source": [
        "A:1. **Hypothesis Formulation**\n",
        "\n",
        "**Null Hypothesis (H0)**: Exercise has no significant effect on weight loss.\n",
        "**Alternative Hypothesis (H1)**: Exercise has a significant effect on weight loss.\n",
        "\n",
        "**Choosing the Significance Level (α)**\n",
        "\n",
        "The significance level (α) represents the probability of rejecting the null hypothesis when it is actually true (Type I error). The choice of α depends on the context and consequences of errors:\n",
        "\n",
        "**Common Significance Levels:**\n",
        "\n",
        "**α=0.05 (5%)**: Standard choice in many scientific studies. Balances Type I and Type II errors.\n",
        "\n",
        "**α=0.01 (1%)**: Used when making a Type I error is highly undesirable. Requires stronger evidence to reject H0\n",
        "\n",
        "**α=0.10 (10%)**: Used in exploratory research where a more lenient threshold is acceptable.\n",
        "\n",
        "2. **Recommended Significance Level:**\n",
        "\n",
        "-If the study has moderate consequences of error and follows conventional research standards,\n",
        "α=0.05 is appropriate.\n",
        "\n",
        "-If incorrect conclusions could lead to serious medical or health-related consequences,\n",
        "α=0.01 is preferable.\n",
        "\n",
        "-If the study is exploratory and aims to detect potential trends without strict confirmatory claims,\n",
        "α=0.10 might be considered.\n",
        "\n",
        "3. **Interpretation**\n",
        "If p-value < α: Reject H0, concluding that exercise has a statistically significant effect on weight loss.\n",
        "\n",
        "If p-value ≥α: Fail to reject H0, suggesting insufficient evidence to conclude that exercise affects weight loss.\n",
        "\n",
        "**Final Recommendation**\n",
        "For most health and fitness studies, α=0.05 is the best choice as it ensures a reasonable balance between detecting a true effect and avoiding false positives. However, if medical implications are severe, α=0.01 should be considered.\n"
      ],
      "metadata": {
        "id": "bd3BwcQ1KI7I"
      }
    },
    {
      "cell_type": "markdown",
      "source": [
        "Q3: **Interpreting p-values:**\n",
        "- In a study investigating the effectiveness of a new teaching method, the calculated\n",
        "p-value is 0.03. What does this p-value indicate about the null hypothesis?"
      ],
      "metadata": {
        "id": "pRdZ7fBsH1yJ"
      }
    },
    {
      "cell_type": "markdown",
      "source": [
        "A:\n",
        "Interpreting the P-value in a Study Investigating a New Teaching Method\n",
        "1. **Hypothesis Formulation**\n",
        "Null Hypothesis (H0): The new teaching method has no effect on student performance compared to the traditional method.\n",
        "Alternative Hypothesis (H1): The new teaching method significantly affects student performance compared to the traditional method.\n",
        "2. **Understanding the P-value**\n",
        "The p-value represents the probability of obtaining the observed results (or more extreme) under the assumption that the null hypothesis (H0) is true.\n",
        "A p-value of 0.03 means that, assuming (H0) is true, there is a 3% chance of observing data as extreme as the study results due to random variation alone.\n",
        "3.**Decision Rule**\n",
        "Typically, a significance level (α) is set before analysis. Common thresholds are:\n",
        "α=0.05 (5%): Conventional threshold for rejecting H0.\n",
        "α=0.01 (1%): More stringent, used in cases requiring stronger evidence.\n",
        "Comparison: Since the p-value (0.03) is less than α=0.05, we reject the null hypothesis at the 5% significance level.\n",
        "4. **Interpretation of Results**\n",
        "Statistical Conclusion: There is statistically significant evidence to suggest that the new teaching method affects student performance.\n",
        "Practical Interpretation: While statistically significant, the real-world impact (effect size, practical significance) should also be considered before drawing strong conclusions.\n",
        "5. **Limitations and Considerations**\n",
        "Statistical Significance ≠ Practical Importance: A small p-value does not necessarily mean the effect is large or meaningful in real-world applications.\n",
        "Possible Type I Error: Since we rejected H0, there is a 3% probability that we made a Type I error (incorrectly rejecting a true null hypothesis).\n",
        "Study Design Factors: Sample size, effect size, and study biases should be evaluated to ensure robustness.\n",
        "6. **Final Conclusion**\n",
        "Given the p-value of 0.03, we conclude that the new teaching method has a statistically significant effect on student performance at the 5% level.\n",
        "Further analysis (confidence intervals, effect size) is recommended to assess the practical implications of this finding."
      ],
      "metadata": {
        "id": "UqzuT-YTFy0q"
      }
    },
    {
      "cell_type": "markdown",
      "source": [
        "Q4: **Type I and Type II Errors:**\n",
        "- Describe a scenario in which a Type I error could occur in hypothesis testing. How\n",
        "does it differ from a Type II error?"
      ],
      "metadata": {
        "id": "kQ_X78jXksVU"
      }
    },
    {
      "cell_type": "markdown",
      "source": [
        "A:\n",
        "**Type I and Type II Errors in Hypothesis Testing**\n",
        "1. **Hypothesis Formulation**\n",
        "Null Hypothesis (H0): The new teaching method has no effect on student performance.\n",
        "Alternative Hypothesis (H1): The new teaching method has a significant effect on student performance.\n",
        "2. **Definition of Type I and Type II Errors**\n",
        "Type I Error (False Positive): Rejecting H0 when it is actually true.\n",
        "Type II Error (False Negative): Failing to reject H0 when it is actually false.\n",
        "3. **Type I Error (False Positive)**\n",
        "Scenario:\n",
        "A school tests a new teaching method and concludes that it improves student performance.\n",
        "However, in reality, the new method has no real effect, and the observed improvement was due to chance or external factors.\n",
        "Mathematical Explanation:\n",
        "The probability of making a Type I error is denoted by α (significance level).\n",
        "If α=0.05, there is a 5% chance of incorrectly rejecting H0.\n",
        "This means that in 5 out of 100 experiments, the study might falsely conclude that the teaching method is effective when it is not.\n",
        "Real-World Consequences:\n",
        "The school adopts an ineffective teaching method, leading to wasted resources and potential harm to students' learning outcomes.\n",
        "Researchers and policymakers make incorrect decisions based on flawed evidence.\n",
        "4. **Type II Error (False Negative)**\n",
        "Scenario:\n",
        "A study investigates whether a new teaching method improves student performance but finds no significant effect and fails to reject H0.\n",
        "However, in reality, the new teaching method actually improves learning outcomes, but the study failed to detect this effect.\n",
        "Mathematical Explanation:\n",
        "The probability of making a Type II error is denoted by β.\n",
        "Power of a test is 1−β, representing the ability to detect a true effect.\n",
        "A Type II error might occur due to:\n",
        "-Small sample size\n",
        "\n",
        "-High variability in student performance\n",
        "\n",
        "-Inappropriate statistical test selection\n",
        "\n",
        "Real-World Consequences:\n",
        "\n",
        "-The school rejects an effective teaching method, missing an opportunity to enhance education.\n",
        "\n",
        "-Educators continue using outdated methods that may not be as effective."
      ],
      "metadata": {
        "id": "yd2J2T44k0Sq"
      }
    },
    {
      "cell_type": "markdown",
      "source": [
        "Q5: **Right-tailed Hypothesis Testing:**\n",
        "- A manufacturer claims that their new light bulb lasts, on average, more than 1000\n",
        "hours. Conduct a right-tailed hypothesis test with a significance level of 0.05, given a\n",
        "sample mean of 1050 hours and a sample standard deviation of 50 hours."
      ],
      "metadata": {
        "id": "hQHoAlV1Fbdo"
      }
    },
    {
      "cell_type": "markdown",
      "source": [
        "A:\n",
        "\n",
        "Step 1: **Formulating the Hypothesis**\n",
        "The manufacturer claims that the new light bulb lasts more than 1000 hours on average. This suggests a right-tailed test.\n",
        "\n",
        "Null Hypothesis (H0): The mean lifespan of the light bulb is 1000 hours.\n",
        "H0:μ≤1000\n",
        "Alternative Hypothesis (H1): The mean lifespan of the light bulb is greater than 1000 hours.\n",
        "H1:μ>1000\n",
        "\n",
        "Step 2: **Given Data**\n",
        "Sample Mean = 1050 hours\n",
        "Population Mean (μ0) = 1000 hours\n",
        "Sample Standard Deviation (s) = 50 hours\n",
        "Sample Size (n) = Not Given, so we assume a reasonable value for calculation (e.g., 30).\n",
        "Significance Level (α) = 0.05\n",
        "\n",
        "Step 3: **Compute the Test Statistic**\n",
        "Since the population standard deviation is unknown, we use the t-test formula.\n",
        "Let me calculate the t-score."
      ],
      "metadata": {
        "id": "6XQs5-nMFhq_"
      }
    },
    {
      "cell_type": "code",
      "source": [
        "import scipy.stats as stats\n",
        "import numpy as np\n",
        "\n",
        "# Given data\n",
        "sample_mean = 1050\n",
        "pop_mean = 1000\n",
        "sample_std = 50\n",
        "sample_size = 30\n",
        "\n",
        "# Compute t-score\n",
        "t_score = (sample_mean - pop_mean) / (sample_std / np.sqrt(sample_size))\n",
        "t_score\n"
      ],
      "metadata": {
        "id": "kor6UU3e93ko",
        "colab": {
          "base_uri": "https://localhost:8080/"
        },
        "outputId": "f5f325a6-9c75-4caf-e623-1fa05a659fc6"
      },
      "execution_count": null,
      "outputs": [
        {
          "output_type": "execute_result",
          "data": {
            "text/plain": [
              "5.477225575051661"
            ]
          },
          "metadata": {},
          "execution_count": 1
        }
      ]
    },
    {
      "cell_type": "markdown",
      "source": [
        "**The computed t-score is 5.48.**"
      ],
      "metadata": {
        "id": "zpZHNXsBQGWe"
      }
    },
    {
      "cell_type": "markdown",
      "source": [
        "Step 4: **Determine the Critical Value**\n",
        "Since this is a right-tailed test, we find the critical t-value at α=0.05 with (n-1) = 29 degrees of freedom.\n",
        "\n",
        "Let me calculate the critical t-value."
      ],
      "metadata": {
        "id": "GNAUWxbwQZII"
      }
    },
    {
      "cell_type": "code",
      "source": [
        "# Compute the critical t-value for a one-tailed test with alpha = 0.05\n",
        "alpha = 0.05\n",
        "df = sample_size - 1  # Degrees of freedom\n",
        "\n",
        "critical_t_value = stats.t.ppf(1 - alpha, df)\n",
        "critical_t_value"
      ],
      "metadata": {
        "colab": {
          "base_uri": "https://localhost:8080/"
        },
        "id": "Acz8W0K4QjPy",
        "outputId": "5ed7810e-2b5a-4211-c9c0-1ec6ff742c4d"
      },
      "execution_count": null,
      "outputs": [
        {
          "output_type": "execute_result",
          "data": {
            "text/plain": [
              "1.6991270265334972"
            ]
          },
          "metadata": {},
          "execution_count": 2
        }
      ]
    },
    {
      "cell_type": "markdown",
      "source": [
        "The critical t-value for a right-tailed test at α=0.05 with 29 degrees of freedom is 1.70."
      ],
      "metadata": {
        "id": "lnle0eDgQsxn"
      }
    },
    {
      "cell_type": "markdown",
      "source": [
        "Step 5: **Compare t-score with Critical Value**\n",
        "t-score = 5.48\n",
        "Critical t-value = 1.70\n",
        "Since 5.48 > 1.70, we reject the null hypothesis.\n",
        "\n",
        "Step 6: **Interpretation**\n",
        "At a 5% significance level, there is strong statistical evidence to support the manufacturer's claim that the new light bulb lasts, on average, more than 1000 hours."
      ],
      "metadata": {
        "id": "Zhzvie2EQ2h_"
      }
    },
    {
      "cell_type": "markdown",
      "source": [
        "Q6: **Two-Tailed Hypothesis Testing:**\n",
        "- A researcher wants to determine if there is a difference in mean exam scores between\n",
        "two groups of students. Formulate the null and alternative hypotheses for this study as a\n",
        "two-tailed test."
      ],
      "metadata": {
        "id": "DFCwU3x0S08r"
      }
    },
    {
      "cell_type": "markdown",
      "source": [
        "A:\n",
        "**Two-Tailed Hypothesis Testing**\n",
        "Step 1: **Formulating the Hypothesis**\n",
        "The researcher wants to test whether there is a difference in mean exam scores between two groups of students. This suggests a two-tailed test.\n",
        "\n",
        "Null Hypothesis (H0): There is no difference in the mean exam scores between the two groups.\n",
        "H0:μ 1=μ 2\n",
        "(The means of both groups are equal.)\n",
        "\n",
        "Alternative Hypothesis (H1): There is a difference in the mean exam scores between the two groups.\n",
        "H1:μ1≠μ2\n",
        "(The means are not equal, meaning one group has a significantly higher or lower mean score than the other.)\n",
        "\n",
        "Step 2: **Given Data**\n",
        "Let’s assume the following data for calculation purposes:\n",
        "\n",
        "Group 1: Sample Mean, Sample Standard Deviation (s1), Sample Size (n1)\n",
        "Group 2: Sample Mean, Sample Standard Deviation (s2), Sample Size (n2)\n",
        "\n",
        "Significance Level: α=0.05\n",
        "\n",
        "Since the population standard deviations are unknown, we will use the independent two-sample t-test.\n",
        "\n",
        "Step 3: **Compute the Test Statistic**\n",
        "The test statistic for an independent two-sample t-test is given by:\n",
        "Let me perform this calculation with assumed values:\n",
        "\n",
        "\n",
        "Group 1:\n",
        "x1=78,\n",
        "s1=10,\n",
        "n1=30\n",
        "\n",
        "Group 2:\n",
        "x2=72,\n",
        "s2=12,\n",
        "n2=30"
      ],
      "metadata": {
        "id": "feTJTIQ5ZBv8"
      }
    },
    {
      "cell_type": "code",
      "source": [
        "# Re-import necessary libraries since the execution state was reset\n",
        "import scipy.stats as stats\n",
        "import numpy as np\n",
        "\n",
        "# Given data\n",
        "x1, s1, n1 = 78, 10, 30  # Group 1: mean, std dev, sample size\n",
        "x2, s2, n2 = 72, 12, 30  # Group 2: mean, std dev, sample size\n",
        "\n",
        "# Compute t-score for independent two-sample t-test\n",
        "t_statistic = (x1 - x2) / np.sqrt((s1**2 / n1) + (s2**2 / n2))\n",
        "t_statistic\n"
      ],
      "metadata": {
        "colab": {
          "base_uri": "https://localhost:8080/"
        },
        "id": "X26MBfJNm2nU",
        "outputId": "3e5cad9b-9d87-4483-8ba4-9cab8e124471"
      },
      "execution_count": null,
      "outputs": [
        {
          "output_type": "execute_result",
          "data": {
            "text/plain": [
              "2.1038606199548298"
            ]
          },
          "metadata": {},
          "execution_count": 1
        }
      ]
    },
    {
      "cell_type": "markdown",
      "source": [
        "**The computed t-score is 2.10.**"
      ],
      "metadata": {
        "id": "YnYvO6Z7m605"
      }
    },
    {
      "cell_type": "markdown",
      "source": [
        "Step 4: **Determine the Critical Value**\n",
        "Since this is a two-tailed test, we find the critical t-value at α=0.05 with\n",
        "𝑑𝑓=𝑛1+𝑛2−2\n",
        "  =30+30−2\n",
        "  =58 degrees of freedom.\n",
        "\n",
        "Let me calculate the critical t-value."
      ],
      "metadata": {
        "id": "713pYcmcm_kY"
      }
    },
    {
      "cell_type": "code",
      "source": [
        "# Compute the critical t-value for a two-tailed test with alpha = 0.05\n",
        "alpha = 0.05\n",
        "df = n1 + n2 - 2  # Degrees of freedom\n",
        "\n",
        "# Critical t-value for two-tailed test\n",
        "critical_t_value = stats.t.ppf(1 - alpha / 2, df)\n",
        "critical_t_value\n"
      ],
      "metadata": {
        "colab": {
          "base_uri": "https://localhost:8080/"
        },
        "id": "OjCK4eSqnouu",
        "outputId": "5f018555-f900-42df-ff2b-8e29b4f61027"
      },
      "execution_count": null,
      "outputs": [
        {
          "output_type": "execute_result",
          "data": {
            "text/plain": [
              "2.0017174841452356"
            ]
          },
          "metadata": {},
          "execution_count": 2
        }
      ]
    },
    {
      "cell_type": "markdown",
      "source": [
        "**The critical t-value for a two-tailed test at α=0.05 with 58 degrees of freedom is 2.00.**"
      ],
      "metadata": {
        "id": "SPviMiQFnt_m"
      }
    },
    {
      "cell_type": "markdown",
      "source": [
        "Step 5: **Compare t-score with Critical Value**\n",
        "t-score = 2.10\n",
        "Critical t-value = 2.00\n",
        "Since 2.10 > 2.00, we reject the null hypothesis.\n",
        "\n",
        "Step 6: **Interpretation**\n",
        "At a 5% significance level, there is statistically significant evidence to conclude that there is a difference in the mean exam scores between the two student groups."
      ],
      "metadata": {
        "id": "5JAXCwVKn1AN"
      }
    },
    {
      "cell_type": "markdown",
      "source": [
        "Q7: **One-sample t-test:**\n",
        "- A manufacturer claims that the mean weight of their cereal boxes is 500 grams. A\n",
        "sample of 30 cereal boxes has a mean weight of 490 grams and a standard deviation of\n",
        "20 grams. Conduct a one-sample t-test to determine if there is evidence to support the\n",
        "manufacturer's claim at a significance level of 0.05."
      ],
      "metadata": {
        "id": "KmZxzZ24os4U"
      }
    },
    {
      "cell_type": "markdown",
      "source": [
        "A:\n",
        "**One-Sample t-Test**\n",
        "Step 1: **Formulating the Hypothesis**\n",
        "The manufacturer claims that the mean weight of cereal boxes is 500 grams. We will test whether the sample provides evidence to refute this claim.\n",
        "\n",
        "Null Hypothesis (H0): The mean weight of the cereal boxes is 500 grams.\n",
        "H0:μ=500\n",
        "Alternative Hypothesis (H1): The mean weight is not 500 grams (two-tailed test).\n",
        "H1:μ≠500\n",
        "Step 2: **Given Data**\n",
        "Sample Mean = 490 grams\n",
        "Population Mean (μ0) = 500 grams\n",
        "Sample Standard Deviation (s) = 20 grams\n",
        "Sample Size (n) = 30\n",
        "Significance Level (α) = 0.05\n",
        "Step 3: **Compute the Test Statistic**\n",
        "Since the population standard deviation is unknown, we use the one-sample t-test formula:"
      ],
      "metadata": {
        "id": "GGqMFpdZr504"
      }
    },
    {
      "cell_type": "code",
      "source": [
        "# Re-import necessary libraries since the execution state was reset\n",
        "import scipy.stats as stats\n",
        "import numpy as np\n",
        "\n",
        "# Given data\n",
        "sample_mean = 490\n",
        "pop_mean = 500\n",
        "sample_std = 20\n",
        "sample_size = 30\n",
        "\n",
        "# Compute t-score\n",
        "t_score = (sample_mean - pop_mean) / (sample_std / np.sqrt(sample_size))\n",
        "t_score\n"
      ],
      "metadata": {
        "colab": {
          "base_uri": "https://localhost:8080/"
        },
        "id": "qE5Pfy8Iszh2",
        "outputId": "91db8314-f308-434b-9e7f-03d9db4a6a57"
      },
      "execution_count": 1,
      "outputs": [
        {
          "output_type": "execute_result",
          "data": {
            "text/plain": [
              "-2.7386127875258306"
            ]
          },
          "metadata": {},
          "execution_count": 1
        }
      ]
    },
    {
      "cell_type": "markdown",
      "source": [
        "**The computed t-score is -2.74.**"
      ],
      "metadata": {
        "id": "9OwI5rzNs_FN"
      }
    },
    {
      "cell_type": "markdown",
      "source": [
        "Step 4: **Determine the Critical Value**\n",
        "Since this is a two-tailed test, we find the critical t-value at α=0.05 with\n",
        "df=n−1=30−1=29 degrees of freedom.\n",
        "\n",
        "Let me calculate the critical t-value."
      ],
      "metadata": {
        "id": "i_KVWenWtCVW"
      }
    },
    {
      "cell_type": "code",
      "source": [
        "# Compute the critical t-value for a two-tailed test with alpha = 0.05\n",
        "alpha = 0.05\n",
        "df = sample_size - 1  # Degrees of freedom\n",
        "\n",
        "# Critical t-value for two-tailed test\n",
        "critical_t_value = stats.t.ppf(1 - alpha / 2, df)\n",
        "critical_t_value\n"
      ],
      "metadata": {
        "colab": {
          "base_uri": "https://localhost:8080/"
        },
        "id": "nJKn7dD6tRfj",
        "outputId": "d4d4fabf-5e7a-4d2a-a5af-d3fc10d0b822"
      },
      "execution_count": 2,
      "outputs": [
        {
          "output_type": "execute_result",
          "data": {
            "text/plain": [
              "2.045229642132703"
            ]
          },
          "metadata": {},
          "execution_count": 2
        }
      ]
    },
    {
      "cell_type": "markdown",
      "source": [
        "The critical t-value for a two-tailed test at α=0.05 with 29 degrees of freedom is ±2.05.\n",
        "\n",
        "Step 5: **Compare t-score with Critical Value**\n",
        "t-score = -2.74\n",
        "Critical t-value = ±2.05\n",
        "Since −2.74<−2.05, we reject the null hypothesis.\n",
        "\n",
        "Step 6: **Interpretation**\n",
        "At a 5% significance level, there is statistically significant evidence to conclude that the mean weight of the cereal boxes differs from 500 grams. This suggests that the manufacturer's claim may not be accurate."
      ],
      "metadata": {
        "id": "zZM2aldOtw0B"
      }
    },
    {
      "cell_type": "markdown",
      "source": [
        "Q8:\n",
        " **Two-sample t-test:**\n",
        "- A researcher wants to compare the mean reaction times of two different groups of\n",
        "participants in a driving simulation study. Group A has a mean reaction time of 0.6\n",
        "seconds with a standard deviation of 0.1 seconds, while Group B has a mean reaction\n",
        "time of 0.55 seconds with a standard deviation of 0.08 seconds. Conduct a two-sample\n",
        "t-test to determine if there is a significant difference in mean reaction times between the\n",
        "groups at a significance level of 0.01."
      ],
      "metadata": {
        "id": "Uo8tnxp3t-TR"
      }
    },
    {
      "cell_type": "markdown",
      "source": [
        "A:\n",
        "**Two-Sample t-Test**\n",
        "Step 1: **Formulating the Hypothesis**\n",
        "The researcher wants to test whether there is a significant difference in mean reaction times between two groups. This is a two-tailed test.\n",
        "\n",
        "Null Hypothesis (H0): There is no difference in mean reaction times between Group A and Group B.\n",
        "H0:μA=μB (The means of both groups are equal.)\n",
        "\n",
        "Alternative Hypothesis (H1): There is a difference in mean reaction times between Group A and Group B.\n",
        "HA:μA≠μB (The means are not equal, meaning one group has significantly higher or lower reaction times than the other.)\n",
        "\n",
        "Step 2: **Given Data**\n",
        "Group A:\n",
        "\n",
        "Sample Mean (xA) = 0.6 seconds\n",
        "Sample Standard Deviation (sA) = 0.1 seconds\n",
        "Sample Size (nA) = 30 (assumed)\n",
        "Group B:\n",
        "\n",
        "Sample Mean (xB) = 0.55 seconds\n",
        "Sample Standard Deviation (sB) = 0.08 seconds\n",
        "Sample Size (nB) = 30 (assumed)\n",
        "Significance Level (α): 0.01\n",
        "\n",
        "Step 3: **Compute the Test Statistic**\n",
        "Since the population standard deviations are unknown, we use the independent two-sample t-test formula:\n",
        "\n",
        "Let me calculate the t-score."
      ],
      "metadata": {
        "id": "j7bGngn0uXJE"
      }
    },
    {
      "cell_type": "code",
      "source": [
        "# Given data\n",
        "x_A, s_A, n_A = 0.6, 0.1, 30  # Group A: mean, std dev, sample size\n",
        "x_B, s_B, n_B = 0.55, 0.08, 30  # Group B: mean, std dev, sample size\n",
        "\n",
        "# Compute t-score for independent two-sample t-test\n",
        "t_statistic = (x_A - x_B) / np.sqrt((s_A**2 / n_A) + (s_B**2 / n_B))\n",
        "t_statistic"
      ],
      "metadata": {
        "colab": {
          "base_uri": "https://localhost:8080/"
        },
        "id": "7m0cOy2Jw2th",
        "outputId": "33514c79-21c0-4494-b641-9fae3bfcdc3f"
      },
      "execution_count": 3,
      "outputs": [
        {
          "output_type": "execute_result",
          "data": {
            "text/plain": [
              "2.138497306920751"
            ]
          },
          "metadata": {},
          "execution_count": 3
        }
      ]
    },
    {
      "cell_type": "markdown",
      "source": [
        "**The computed t-score is 2.14.**"
      ],
      "metadata": {
        "id": "-A4fP0TgxBZR"
      }
    },
    {
      "cell_type": "markdown",
      "source": [
        "Step 4: Determine the Critical Value\n",
        "Since this is a two-tailed test, we find the critical t-value at α=0.01 with\n",
        "\n",
        "df=nA+nB−2=30+30−2=58 degrees of freedom.\n",
        "\n",
        "Let me calculate the critical t-value."
      ],
      "metadata": {
        "id": "3WonzxQdxFbV"
      }
    },
    {
      "cell_type": "code",
      "source": [
        "# Compute the critical t-value for a two-tailed test with alpha = 0.01\n",
        "alpha = 0.01\n",
        "df = n_A + n_B - 2  # Degrees of freedom\n",
        "\n",
        "# Critical t-value for two-tailed test\n",
        "critical_t_value = stats.t.ppf(1 - alpha / 2, df)\n",
        "critical_t_value\n"
      ],
      "metadata": {
        "colab": {
          "base_uri": "https://localhost:8080/"
        },
        "id": "5xgHC5ePvLPj",
        "outputId": "91f07a14-907a-454d-9398-42c18ad525b1"
      },
      "execution_count": 4,
      "outputs": [
        {
          "output_type": "execute_result",
          "data": {
            "text/plain": [
              "2.663286953537658"
            ]
          },
          "metadata": {},
          "execution_count": 4
        }
      ]
    },
    {
      "cell_type": "markdown",
      "source": [
        "**The critical t-value for a two-tailed test at α=0.01 with 58 degrees of freedom is ±2.66.**"
      ],
      "metadata": {
        "id": "vxq_gK-Vxe7d"
      }
    },
    {
      "cell_type": "markdown",
      "source": [
        "Step 5: **Compare t-score with Critical Value**\n",
        "\n",
        "t-score = 2.14,\n",
        "Critical t-value = ±2.66\n",
        "\n",
        "Since -2.66< 2.14 < 2.66, we fail to reject the null hypothesis.\n",
        "\n",
        "Step 6: **Interpretation**\n",
        "At a 1% significance level, there is not enough statistical evidence to conclude that the mean reaction times of Group A and Group B are significantly different. This suggests that any observed difference in reaction times could be due to chance rather than a true difference."
      ],
      "metadata": {
        "id": "XPUVR3M3xnNV"
      }
    },
    {
      "cell_type": "markdown",
      "source": [
        "Q9:\n",
        "**Process Control Example:**\n",
        "- A call center manager implements a new training program aimed at reducing call\n",
        "waiting times. The average waiting time before the training program was 4.5 minutes, and\n",
        "after the program, it is measured to be 4.0 minutes with a standard deviation of 0.8\n",
        "minutes. Conduct a hypothesis test to determine if there is evidence that the training\n",
        "program has reduced waiting times, using a significance level of 0.05."
      ],
      "metadata": {
        "id": "e73iL4PExjlu"
      }
    },
    {
      "cell_type": "markdown",
      "source": [
        "A:\n",
        "**Process Control Hypothesis Testing: Effect of Training Program on Call Waiting Times**\n",
        "\n",
        "Step 1: **Formulating the Hypothesis**\n",
        "The call center manager wants to determine whether the new training program has reduced call waiting times. This suggests a left-tailed (one-tailed) test.\n",
        "\n",
        "Null Hypothesis (H0): The training program has no effect or has not reduced the average waiting time.\n",
        "\n",
        "H0:μ≥4.5\n",
        "\n",
        "Alternative Hypothesis (H1): The training program has reduced the average waiting time.\n",
        "\n",
        "H1:μ < 4.5\n",
        "\n",
        "Step 2: **Given Data**\n",
        "Before Training: Population Mean (μ0) = 4.5 minutes\n",
        "After Training: Sample Mean (x) = 4.0 minutes\n",
        "Sample Standard Deviation (s) = 0.8 minutes\n",
        "Sample Size (n) = 30 (assumed)\n",
        "Significance Level (a) = 0.05\n",
        "\n",
        "Step 3: **Compute the Test Statistic**\n",
        "Since the population standard deviation is unknown, we use the one-sample t-test formula:\n",
        "\n",
        "Let me calculate the t-score."
      ],
      "metadata": {
        "id": "j3J1vWS6y8I3"
      }
    },
    {
      "cell_type": "code",
      "source": [
        "# Given data\n",
        "sample_mean = 4.0\n",
        "pop_mean = 4.5\n",
        "sample_std = 0.8\n",
        "sample_size = 30\n",
        "\n",
        "# Compute t-score\n",
        "t_score = (sample_mean - pop_mean) / (sample_std / np.sqrt(sample_size))\n",
        "t_score\n"
      ],
      "metadata": {
        "colab": {
          "base_uri": "https://localhost:8080/"
        },
        "id": "XFNeeNBC0WQk",
        "outputId": "334af7cc-3a73-41ef-f0eb-645896ffe03d"
      },
      "execution_count": 5,
      "outputs": [
        {
          "output_type": "execute_result",
          "data": {
            "text/plain": [
              "-3.4232659844072884"
            ]
          },
          "metadata": {},
          "execution_count": 5
        }
      ]
    },
    {
      "cell_type": "markdown",
      "source": [
        "**The computed t-score is -3.42.**"
      ],
      "metadata": {
        "id": "LeA_RGNX0crc"
      }
    },
    {
      "cell_type": "markdown",
      "source": [
        "Step 4: **Determine the Critical Value**\n",
        "Since this is a left-tailed test, we find the critical t-value at α=0.05 with\n",
        "\n",
        "df=n−1=30−1=29 degrees of freedom.\n",
        "\n",
        "Let me calculate the critical t-value."
      ],
      "metadata": {
        "id": "vIYaMzqP0hRR"
      }
    },
    {
      "cell_type": "code",
      "source": [
        "# Compute the critical t-value for a left-tailed test with alpha = 0.05\n",
        "alpha = 0.05\n",
        "df = sample_size - 1  # Degrees of freedom\n",
        "\n",
        "# Critical t-value for one-tailed test\n",
        "critical_t_value = stats.t.ppf(alpha, df)\n",
        "critical_t_value\n"
      ],
      "metadata": {
        "colab": {
          "base_uri": "https://localhost:8080/"
        },
        "id": "vlBIcXW60d8V",
        "outputId": "4dc9f85b-8be2-41b9-9e09-8a7d4ae05e09"
      },
      "execution_count": 6,
      "outputs": [
        {
          "output_type": "execute_result",
          "data": {
            "text/plain": [
              "-1.6991270265334977"
            ]
          },
          "metadata": {},
          "execution_count": 6
        }
      ]
    },
    {
      "cell_type": "markdown",
      "source": [
        "**The critical t-value for a left-tailed test at α=0.05 with 29 degrees of freedom is -1.70.**"
      ],
      "metadata": {
        "id": "wzGqHSER0yoT"
      }
    },
    {
      "cell_type": "markdown",
      "source": [
        "Step 5: **Compare t-score with Critical Value**\n",
        "\n",
        "t-score = -3.42,\n",
        "Critical t-value = -1.70\n",
        "\n",
        "Since -3.42<-1.70, we reject the null hypothesis.\n",
        "\n",
        "Step 6: **Interpretation**\n",
        "\n",
        "At a 5% significance level, there is statistically significant evidence to conclude that the new training program has successfully reduced call waiting times."
      ],
      "metadata": {
        "id": "wQ64SnDd05LQ"
      }
    },
    {
      "cell_type": "markdown",
      "source": [
        "Q10:\n",
        "**Interpreting Results:**\n",
        "- After conducting a hypothesis test, the calculated p-value is 0.02. What can you\n",
        "conclude about the null hypothesis based on this result, assuming a significance level of 0.05?"
      ],
      "metadata": {
        "id": "rV_nEGpE2Iep"
      }
    },
    {
      "cell_type": "markdown",
      "source": [
        "A:\n",
        "**Interpreting Hypothesis Test Results Using the p-Value Approach**\n",
        "\n",
        "Step 1: **Understanding the Hypothesis Setup**\n",
        "In hypothesis testing, we compare the p-value to the significance level (a) to determine whether to reject the null hypothesis.\n",
        "\n",
        "Null Hypothesis (H0): The claim we assume to be true before testing.\n",
        "Alternative Hypothesis (H1): The claim we want to test.\n",
        "\n",
        "Step 2: **Given Information**\n",
        "Calculated p-value = 0.02,\n",
        "Significance Level (a) = 0.05\n",
        "\n",
        "Step 3: **Decision Rule**\n",
        "If p≤α, reject the null hypothesis (H0).\n",
        "\n",
        "If p>α, fail to reject the null hypothesis.\n",
        "\n",
        "Since 0.02 < 0.05, we reject the null hypothesis.\n",
        "\n",
        "Step 4: **Interpretation**\n",
        "\n",
        "At a 5% significance level, there is sufficient statistical evidence to reject the null hypothesis. This means the test results support the alternative hypothesis, suggesting that the effect or difference observed in the sample is statistically significant."
      ],
      "metadata": {
        "id": "pQLnUM7m1oQR"
      }
    }
  ]
}